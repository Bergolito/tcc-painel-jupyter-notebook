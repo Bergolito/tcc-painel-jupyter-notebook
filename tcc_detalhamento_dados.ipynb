{
 "cells": [
  {
   "cell_type": "code",
   "execution_count": 2,
   "id": "4b201c6f-47f7-4eef-8d2c-6666693d2f6d",
   "metadata": {},
   "outputs": [],
   "source": [
    "# =======================================================\n",
    "# Imports\n",
    "# =======================================================\n",
    "\n",
    "import pandas as pd"
   ]
  },
  {
   "cell_type": "code",
   "execution_count": 3,
   "id": "fbac082c-564f-4c80-a068-5de26cc18601",
   "metadata": {},
   "outputs": [],
   "source": [
    "# =======================================================\n",
    "# Datasets\n",
    "# =======================================================\n",
    "\"\"\"\n",
    "df_pessoa_acidentes_2007 = pd.read_csv('../PRF/por_pessoa/acidentes2007.csv', sep=',', encoding=\"ISO-8859-1\")\n",
    "df_pessoa_acidentes_2008 = pd.read_csv('../PRF/por_pessoa/acidentes2008.csv', sep=',', encoding=\"ISO-8859-1\")\n",
    "df_pessoa_acidentes_2009 = pd.read_csv('../PRF/por_pessoa/acidentes2009.csv', sep=',', encoding=\"ISO-8859-1\")\n",
    "df_pessoa_acidentes_2010 = pd.read_csv('../PRF/por_pessoa/acidentes2010.csv', sep=',', encoding=\"ISO-8859-1\")\n",
    "df_pessoa_acidentes_2011 = pd.read_csv('../PRF/por_pessoa/acidentes2011.csv', sep=',', encoding=\"ISO-8859-1\")\n",
    "df_pessoa_acidentes_2012 = pd.read_csv('../PRF/por_pessoa/acidentes2012.csv', sep=',', encoding=\"ISO-8859-1\")\n",
    "df_pessoa_acidentes_2013 = pd.read_csv('../PRF/por_pessoa/acidentes2013.csv', sep=',', encoding=\"ISO-8859-1\")\n",
    "df_pessoa_acidentes_2014 = pd.read_csv('../PRF/por_pessoa/acidentes2014.csv', sep=',', encoding=\"ISO-8859-1\")\n",
    "df_pessoa_acidentes_2015 = pd.read_csv('../PRF/por_pessoa/acidentes2015.csv', sep=',', encoding=\"ISO-8859-1\")\n",
    "df_pessoa_acidentes_2016 = pd.read_csv('../PRF/por_pessoa/acidentes2016.csv', sep=';', encoding=\"ISO-8859-1\")\n",
    "df_pessoa_acidentes_2017 = pd.read_csv('../PRF/por_pessoa/acidentes2017.csv', sep=';', encoding=\"ISO-8859-1\")\n",
    "df_pessoa_acidentes_2018 = pd.read_csv('../PRF/por_pessoa/acidentes2018.csv', sep=';', encoding=\"ISO-8859-1\")\n",
    "df_pessoa_acidentes_2019 = pd.read_csv('../PRF/por_pessoa/acidentes2019.csv', sep=';', encoding=\"ISO-8859-1\")\n",
    "df_pessoa_acidentes_2020 = pd.read_csv('../PRF/por_pessoa/acidentes2020.csv', sep=';', encoding=\"ISO-8859-1\")\n",
    "df_pessoa_acidentes_2021 = pd.read_csv('../PRF/por_pessoa/acidentes2021.csv', sep=';', encoding=\"ISO-8859-1\")\n",
    "df_pessoa_acidentes_2022 = pd.read_csv('../PRF/por_pessoa/acidentes2022.csv', sep=';', encoding=\"ISO-8859-1\")\n",
    "df_pessoa_acidentes_2023 = pd.read_csv('../PRF/por_pessoa/acidentes2023.csv', sep=';', encoding=\"ISO-8859-1\")\n",
    "\"\"\"\n",
    "df_pessoa_acidentes_2024 = pd.read_csv('../PRF/por_pessoa/acidentes2024.csv', sep=';', encoding=\"ISO-8859-1\")"
   ]
  },
  {
   "cell_type": "code",
   "execution_count": 4,
   "id": "f03d3f0a-fc1d-4b05-9952-1a35c85d6157",
   "metadata": {},
   "outputs": [],
   "source": [
    "# =======================================================\n",
    "# Datasets por ocorrencias\n",
    "# =======================================================\n",
    "\"\"\"\n",
    "df_por_ocorrencia_2007 = pd.read_csv('../PRF/por_ocorrencia/datatran2007.csv', sep=';', encoding=\"ISO-8859-1\")\n",
    "df_por_ocorrencia_2008 = pd.read_csv('../PRF/por_ocorrencia/datatran2008.csv', sep=';', encoding=\"ISO-8859-1\")\n",
    "df_por_ocorrencia_2009 = pd.read_csv('../PRF/por_ocorrencia/datatran2009.csv', sep=';', encoding=\"ISO-8859-1\")\n",
    "df_por_ocorrencia_2010 = pd.read_csv('../PRF/por_ocorrencia/datatran2010.csv', sep=';', encoding=\"ISO-8859-1\")\n",
    "df_por_ocorrencia_2011 = pd.read_csv('../PRF/por_ocorrencia/datatran2011.csv', sep=';', encoding=\"ISO-8859-1\")\n",
    "df_por_ocorrencia_2012 = pd.read_csv('../PRF/por_ocorrencia/datatran2012.csv', sep=';', encoding=\"ISO-8859-1\")\n",
    "df_por_ocorrencia_2013 = pd.read_csv('../PRF/por_ocorrencia/datatran2013.csv', sep=';', encoding=\"ISO-8859-1\")\n",
    "df_por_ocorrencia_2014 = pd.read_csv('../PRF/por_ocorrencia/datatran2014.csv', sep=';', encoding=\"ISO-8859-1\")\n",
    "df_por_ocorrencia_2015 = pd.read_csv('../PRF/por_ocorrencia/datatran2015.csv', sep=';', encoding=\"ISO-8859-1\")\n",
    "df_por_ocorrencia_2016 = pd.read_csv('../PRF/por_ocorrencia/datatran2016.csv', sep=';', encoding=\"ISO-8859-1\")\n",
    "df_por_ocorrencia_2017 = pd.read_csv('../PRF/por_ocorrencia/datatran2017.csv', sep=';', encoding=\"ISO-8859-1\")\n",
    "df_por_ocorrencia_2018 = pd.read_csv('../PRF/por_ocorrencia/datatran2018.csv', sep=';', encoding=\"ISO-8859-1\")\n",
    "df_por_ocorrencia_2019 = pd.read_csv('../PRF/por_ocorrencia/datatran2019.csv', sep=';', encoding=\"ISO-8859-1\")\n",
    "df_por_ocorrencia_2020 = pd.read_csv('../PRF/por_ocorrencia/datatran2020.csv', sep=';', encoding=\"ISO-8859-1\")\n",
    "df_por_ocorrencia_2021 = pd.read_csv('../PRF/por_ocorrencia/datatran2021.csv', sep=';', encoding=\"ISO-8859-1\")\n",
    "df_por_ocorrencia_2022 = pd.read_csv('../PRF/por_ocorrencia/datatran2022.csv', sep=';', encoding=\"ISO-8859-1\")\n",
    "df_por_ocorrencia_2023 = pd.read_csv('../PRF/por_ocorrencia/datatran2023.csv', sep=';', encoding=\"ISO-8859-1\")\n",
    "\"\"\"\n",
    "df_por_ocorrencia_2024 = pd.read_csv('../PRF/por_ocorrencia/datatran2024.csv', sep=';', encoding=\"ISO-8859-1\")\n"
   ]
  },
  {
   "cell_type": "code",
   "execution_count": 10,
   "id": "0bc04cf5-9a1e-420e-be11-add56451d5f5",
   "metadata": {},
   "outputs": [
    {
     "data": {
      "text/plain": [
       "<bound method NDFrame.head of              id data_inversa     dia_semana   horario  uf   br    km  \\\n",
       "0      571789.0   2024-01-01  segunda-feira  03:56:00  ES  101    38   \n",
       "1      571804.0   2024-01-01  segunda-feira  04:50:00  PI  343   185   \n",
       "2      571806.0   2024-01-01  segunda-feira  04:30:00  BA  116   578   \n",
       "3      571818.0   2024-01-01  segunda-feira  06:30:00  SE  101    18   \n",
       "4      571838.0   2024-01-01  segunda-feira  05:00:00  MT  364   240   \n",
       "...         ...          ...            ...       ...  ..  ...   ...   \n",
       "47698  627756.0   2024-08-20    terça-feira  17:00:00  MG  116  13,6   \n",
       "47699  627773.0   2024-06-01         sábado  19:20:00  MG  116   422   \n",
       "47700  627777.0   2024-08-07   quarta-feira  18:10:00  RS  116   234   \n",
       "47701  627911.0   2024-08-29   quinta-feira  07:30:00  MG   40   515   \n",
       "47702  627985.0   2024-07-14        domingo  23:30:00  RO  364   388   \n",
       "\n",
       "                 municipio                                     causa_acidente  \\\n",
       "0       CONCEICAO DA BARRA                             Ultrapassagem Indevida   \n",
       "1                 PIRIPIRI                        Manobra de mudança de faixa   \n",
       "2                  BREJOES                   Ingestão de álcool pelo condutor   \n",
       "3         MALHADA DOS BOIS           Reação tardia ou ineficiente do condutor   \n",
       "4             RONDONOPOLIS  Condutor deixou de manter distância do veículo...   \n",
       "...                    ...                                                ...   \n",
       "47698      AGUAS VERMELHAS           Reação tardia ou ineficiente do condutor   \n",
       "47699            ALPERCATA                                   Animais na Pista   \n",
       "47700       ESTANCIA VELHA                                   Acesso irregular   \n",
       "47701   RIBEIRAO DAS NEVES  Condutor deixou de manter distância do veículo...   \n",
       "47702  OURO PRETO DO OESTE                     Ausência de reação do condutor   \n",
       "\n",
       "                        tipo_acidente  ... feridos_graves ilesos ignorados  \\\n",
       "0      Colisão lateral sentido oposto  ...              1      1         1   \n",
       "1                     Colisão frontal  ...              0      1         0   \n",
       "2                     Colisão frontal  ...              0      1         2   \n",
       "3           Saída de leito carroçável  ...              1      0         2   \n",
       "4                    Colisão traseira  ...              0      2         1   \n",
       "...                               ...  ...            ...    ...       ...   \n",
       "47698       Saída de leito carroçável  ...              0      0         0   \n",
       "47699         Atropelamento de Animal  ...              0      0         0   \n",
       "47700             Colisão transversal  ...              0      2         0   \n",
       "47701                   Engavetamento  ...              1      1         0   \n",
       "47702       Saída de leito carroçável  ...              2      2         0   \n",
       "\n",
       "      feridos veiculos      latitude     longitude  regional  delegacia  \\\n",
       "0           1        3     -18,48261     -39,92379   SPRF-ES   DEL04-ES   \n",
       "1           0        2   -4,29603281  -41,76732659   SPRF-PI   DEL02-PI   \n",
       "2           0        4  -13,07158302   -39,9611107   SPRF-BA   DEL03-BA   \n",
       "3           1        3  -10,35601949  -36,90552235   SPRF-SE   DEL02-SE   \n",
       "4           0        3  -16,17914141  -54,78905337   SPRF-MT   DEL02-MT   \n",
       "...       ...      ...           ...           ...       ...        ...   \n",
       "47698       1        1    -15,804386    -41,359894   SPRF-BA   DEL08-BA   \n",
       "47699       1        1  -18,95287041  -41,95682514   SPRF-MG   DEL06-MG   \n",
       "47700       0        2  -29,65121313   -51,1444433   SPRF-RS   DEL01-RS   \n",
       "47701       2        3   -19,8090079  -44,09493479   SPRF-MG   DEL01-MG   \n",
       "47702       2        2  -10,70116422  -62,26238327   SPRF-RO   DEL03-RO   \n",
       "\n",
       "                  uop  \n",
       "0      UOP02-DEL04-ES  \n",
       "1      UOP01-DEL02-PI  \n",
       "2      UOP02-DEL03-BA  \n",
       "3      UOP02-DEL02-SE  \n",
       "4      UOP01-DEL02-MT  \n",
       "...               ...  \n",
       "47698  UOP03-DEL08-BA  \n",
       "47699  UOP01-DEL06-MG  \n",
       "47700  UOP02-DEL01-RS  \n",
       "47701  UOP02-DEL01-MG  \n",
       "47702  UOP02-DEL03-RO  \n",
       "\n",
       "[47703 rows x 30 columns]>"
      ]
     },
     "execution_count": 10,
     "metadata": {},
     "output_type": "execute_result"
    }
   ],
   "source": [
    "df_por_ocorrencia_2024.head"
   ]
  },
  {
   "cell_type": "code",
   "execution_count": 11,
   "id": "8e4517ec",
   "metadata": {},
   "outputs": [
    {
     "data": {
      "text/plain": [
       "Index(['id', 'pesid', 'data_inversa', 'dia_semana', 'horario', 'uf', 'br',\n",
       "       'km', 'municipio', 'causa_acidente', 'tipo_acidente',\n",
       "       'classificacao_acidente', 'fase_dia', 'sentido_via',\n",
       "       'condicao_metereologica', 'tipo_pista', 'tracado_via', 'uso_solo',\n",
       "       'id_veiculo', 'tipo_veiculo', 'marca', 'ano_fabricacao_veiculo',\n",
       "       'tipo_envolvido', 'estado_fisico', 'idade', 'sexo', 'ilesos',\n",
       "       'feridos_leves', 'feridos_graves', 'mortos', 'latitude', 'longitude',\n",
       "       'regional', 'delegacia', 'uop'],\n",
       "      dtype='object')"
      ]
     },
     "execution_count": 11,
     "metadata": {},
     "output_type": "execute_result"
    }
   ],
   "source": [
    "df_pessoa_acidentes_2024.columns"
   ]
  }
 ],
 "metadata": {
  "kernelspec": {
   "display_name": "Python 3",
   "language": "python",
   "name": "python3"
  },
  "language_info": {
   "codemirror_mode": {
    "name": "ipython",
    "version": 3
   },
   "file_extension": ".py",
   "mimetype": "text/x-python",
   "name": "python",
   "nbconvert_exporter": "python",
   "pygments_lexer": "ipython3",
   "version": "3.10.12"
  }
 },
 "nbformat": 4,
 "nbformat_minor": 5
}
