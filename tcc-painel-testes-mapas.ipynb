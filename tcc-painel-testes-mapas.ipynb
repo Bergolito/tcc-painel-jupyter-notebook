{
 "cells": [
  {
   "cell_type": "code",
   "execution_count": 3,
   "id": "e7521edc-465c-4673-aeba-5136b73fd4c4",
   "metadata": {},
   "outputs": [
    {
     "name": "stdout",
     "output_type": "stream",
     "text": [
      "Defaulting to user installation because normal site-packages is not writeable\n",
      "Requirement already satisfied: geopandas in /home/s037958714/.local/lib/python3.10/site-packages (1.0.1)\n",
      "Requirement already satisfied: packaging in /usr/lib/python3/dist-packages (from geopandas) (21.3)\n",
      "Requirement already satisfied: numpy>=1.22 in /home/s037958714/.local/lib/python3.10/site-packages (from geopandas) (1.25.2)\n",
      "Requirement already satisfied: pandas>=1.4.0 in /home/s037958714/.local/lib/python3.10/site-packages (from geopandas) (2.1.1)\n",
      "Requirement already satisfied: shapely>=2.0.0 in /home/s037958714/.local/lib/python3.10/site-packages (from geopandas) (2.0.6)\n",
      "Requirement already satisfied: pyproj>=3.3.0 in /home/s037958714/.local/lib/python3.10/site-packages (from geopandas) (3.7.0)\n",
      "Requirement already satisfied: pyogrio>=0.7.2 in /home/s037958714/.local/lib/python3.10/site-packages (from geopandas) (0.10.0)\n",
      "Requirement already satisfied: python-dateutil>=2.8.2 in /home/s037958714/.local/lib/python3.10/site-packages (from pandas>=1.4.0->geopandas) (2.8.2)\n",
      "Requirement already satisfied: pytz>=2020.1 in /usr/lib/python3/dist-packages (from pandas>=1.4.0->geopandas) (2022.1)\n",
      "Requirement already satisfied: tzdata>=2022.1 in /home/s037958714/.local/lib/python3.10/site-packages (from pandas>=1.4.0->geopandas) (2023.3)\n",
      "Requirement already satisfied: certifi in /usr/lib/python3/dist-packages (from pyogrio>=0.7.2->geopandas) (2020.6.20)\n",
      "Requirement already satisfied: six>=1.5 in /usr/lib/python3/dist-packages (from python-dateutil>=2.8.2->pandas>=1.4.0->geopandas) (1.16.0)\n",
      "Defaulting to user installation because normal site-packages is not writeable\n",
      "\u001b[31mERROR: Could not find a version that satisfies the requirement tkinter (from versions: none)\u001b[0m\u001b[31m\n",
      "\u001b[0m\u001b[31mERROR: No matching distribution found for tkinter\u001b[0m\u001b[31m\n",
      "\u001b[0mDefaulting to user installation because normal site-packages is not writeable\n",
      "Requirement already satisfied: vega_datasets in /home/s037958714/.local/lib/python3.10/site-packages (0.9.0)\n",
      "Requirement already satisfied: pandas in /home/s037958714/.local/lib/python3.10/site-packages (from vega_datasets) (2.1.1)\n",
      "Requirement already satisfied: pytz>=2020.1 in /usr/lib/python3/dist-packages (from pandas->vega_datasets) (2022.1)\n",
      "Requirement already satisfied: tzdata>=2022.1 in /home/s037958714/.local/lib/python3.10/site-packages (from pandas->vega_datasets) (2023.3)\n",
      "Requirement already satisfied: numpy>=1.22.4 in /home/s037958714/.local/lib/python3.10/site-packages (from pandas->vega_datasets) (1.25.2)\n",
      "Requirement already satisfied: python-dateutil>=2.8.2 in /home/s037958714/.local/lib/python3.10/site-packages (from pandas->vega_datasets) (2.8.2)\n",
      "Requirement already satisfied: six>=1.5 in /usr/lib/python3/dist-packages (from python-dateutil>=2.8.2->pandas->vega_datasets) (1.16.0)\n"
     ]
    }
   ],
   "source": [
    "!pip install geopandas\n",
    "!pip install tkinter\n",
    "!pip install vega_datasets"
   ]
  },
  {
   "cell_type": "code",
   "execution_count": 4,
   "id": "4b201c6f-47f7-4eef-8d2c-6666693d2f6d",
   "metadata": {},
   "outputs": [],
   "source": [
    "# =======================================================\n",
    "# Imports\n",
    "# =======================================================\n",
    "\n",
    "import pandas as pd\n",
    "import numpy as np\n",
    "import streamlit as st\n",
    "import altair as alt\n",
    "from vega_datasets import data"
   ]
  },
  {
   "cell_type": "code",
   "execution_count": 9,
   "id": "abe7a639-ab29-425b-b4f7-87c002876901",
   "metadata": {},
   "outputs": [
    {
     "data": {
      "text/plain": [
       "'https://cdn.jsdelivr.net/npm/vega-datasets@v1.29.0/data/us-10m.json'"
      ]
     },
     "execution_count": 9,
     "metadata": {},
     "output_type": "execute_result"
    }
   ],
   "source": [
    "import altair as alt\n",
    "from vega_datasets import data\n",
    "\n",
    "# Since these data are each more than 5,000 rows we'll import from the URLs\n",
    "airports = data.airports.url\n",
    "flights_airport = data.flights_airport.url\n",
    "\n",
    "data2 = data.us_10m.url\n",
    "data2\n",
    "#states = alt.topo_feature(data.us_10m.url, feature=\"states\")"
   ]
  },
  {
   "cell_type": "code",
   "execution_count": 1,
   "id": "fbac082c-564f-4c80-a068-5de26cc18601",
   "metadata": {},
   "outputs": [
    {
     "data": {
      "text/html": [
       "\n",
       "<style>\n",
       "  #altair-viz-3d17a7325f744b90ba50f5be587ded06.vega-embed {\n",
       "    width: 100%;\n",
       "    display: flex;\n",
       "  }\n",
       "\n",
       "  #altair-viz-3d17a7325f744b90ba50f5be587ded06.vega-embed details,\n",
       "  #altair-viz-3d17a7325f744b90ba50f5be587ded06.vega-embed details summary {\n",
       "    position: relative;\n",
       "  }\n",
       "</style>\n",
       "<div id=\"altair-viz-3d17a7325f744b90ba50f5be587ded06\"></div>\n",
       "<script type=\"text/javascript\">\n",
       "  var VEGA_DEBUG = (typeof VEGA_DEBUG == \"undefined\") ? {} : VEGA_DEBUG;\n",
       "  (function(spec, embedOpt){\n",
       "    let outputDiv = document.currentScript.previousElementSibling;\n",
       "    if (outputDiv.id !== \"altair-viz-3d17a7325f744b90ba50f5be587ded06\") {\n",
       "      outputDiv = document.getElementById(\"altair-viz-3d17a7325f744b90ba50f5be587ded06\");\n",
       "    }\n",
       "    const paths = {\n",
       "      \"vega\": \"https://cdn.jsdelivr.net/npm/vega@5?noext\",\n",
       "      \"vega-lib\": \"https://cdn.jsdelivr.net/npm/vega-lib?noext\",\n",
       "      \"vega-lite\": \"https://cdn.jsdelivr.net/npm/vega-lite@5.17.0?noext\",\n",
       "      \"vega-embed\": \"https://cdn.jsdelivr.net/npm/vega-embed@6?noext\",\n",
       "    };\n",
       "\n",
       "    function maybeLoadScript(lib, version) {\n",
       "      var key = `${lib.replace(\"-\", \"\")}_version`;\n",
       "      return (VEGA_DEBUG[key] == version) ?\n",
       "        Promise.resolve(paths[lib]) :\n",
       "        new Promise(function(resolve, reject) {\n",
       "          var s = document.createElement('script');\n",
       "          document.getElementsByTagName(\"head\")[0].appendChild(s);\n",
       "          s.async = true;\n",
       "          s.onload = () => {\n",
       "            VEGA_DEBUG[key] = version;\n",
       "            return resolve(paths[lib]);\n",
       "          };\n",
       "          s.onerror = () => reject(`Error loading script: ${paths[lib]}`);\n",
       "          s.src = paths[lib];\n",
       "        });\n",
       "    }\n",
       "\n",
       "    function showError(err) {\n",
       "      outputDiv.innerHTML = `<div class=\"error\" style=\"color:red;\">${err}</div>`;\n",
       "      throw err;\n",
       "    }\n",
       "\n",
       "    function displayChart(vegaEmbed) {\n",
       "      vegaEmbed(outputDiv, spec, embedOpt)\n",
       "        .catch(err => showError(`Javascript Error: ${err.message}<br>This usually means there's a typo in your chart specification. See the javascript console for the full traceback.`));\n",
       "    }\n",
       "\n",
       "    if(typeof define === \"function\" && define.amd) {\n",
       "      requirejs.config({paths});\n",
       "      require([\"vega-embed\"], displayChart, err => showError(`Error loading script: ${err.message}`));\n",
       "    } else {\n",
       "      maybeLoadScript(\"vega\", \"5\")\n",
       "        .then(() => maybeLoadScript(\"vega-lite\", \"5.17.0\"))\n",
       "        .then(() => maybeLoadScript(\"vega-embed\", \"6\"))\n",
       "        .catch(showError)\n",
       "        .then(() => displayChart(vegaEmbed));\n",
       "    }\n",
       "  })({\"config\": {\"view\": {\"continuousWidth\": 300, \"continuousHeight\": 300, \"stroke\": null}}, \"layer\": [{\"data\": {\"url\": \"https://cdn.jsdelivr.net/npm/vega-datasets@v1.29.0/data/us-10m.json\", \"format\": {\"feature\": \"states\", \"type\": \"topojson\"}}, \"mark\": {\"type\": \"geoshape\", \"fill\": \"lightgray\", \"stroke\": \"white\"}, \"projection\": {\"type\": \"albersUsa\"}}, {\"data\": {\"url\": \"https://cdn.jsdelivr.net/npm/vega-datasets@v1.29.0/data/flights-airport.csv\"}, \"mark\": {\"type\": \"rule\", \"opacity\": 0.35}, \"encoding\": {\"latitude\": {\"field\": \"latitude\", \"type\": \"quantitative\"}, \"latitude2\": {\"field\": \"lat2\"}, \"longitude\": {\"field\": \"longitude\", \"type\": \"quantitative\"}, \"longitude2\": {\"field\": \"lon2\"}}, \"transform\": [{\"lookup\": \"origin\", \"from\": {\"data\": {\"url\": \"https://cdn.jsdelivr.net/npm/vega-datasets@v1.29.0/data/airports.csv\"}, \"key\": \"iata\", \"fields\": [\"state\", \"latitude\", \"longitude\"]}}, {\"lookup\": \"destination\", \"as\": [\"state\", \"lat2\", \"lon2\"], \"from\": {\"data\": {\"url\": \"https://cdn.jsdelivr.net/npm/vega-datasets@v1.29.0/data/airports.csv\"}, \"key\": \"iata\", \"fields\": [\"state\", \"latitude\", \"longitude\"]}}, {\"filter\": {\"param\": \"param_1\", \"empty\": false}}]}, {\"data\": {\"url\": \"https://cdn.jsdelivr.net/npm/vega-datasets@v1.29.0/data/flights-airport.csv\"}, \"mark\": {\"type\": \"circle\"}, \"encoding\": {\"latitude\": {\"field\": \"latitude\", \"type\": \"quantitative\"}, \"longitude\": {\"field\": \"longitude\", \"type\": \"quantitative\"}, \"order\": {\"field\": \"routes\", \"sort\": \"descending\", \"type\": \"quantitative\"}, \"size\": {\"field\": \"routes\", \"legend\": null, \"scale\": {\"range\": [0, 1000]}, \"type\": \"quantitative\"}, \"tooltip\": [{\"field\": \"origin\", \"type\": \"nominal\"}, {\"field\": \"routes\", \"type\": \"quantitative\"}]}, \"name\": \"view_1\", \"transform\": [{\"aggregate\": [{\"op\": \"count\", \"as\": \"routes\"}], \"groupby\": [\"origin\"]}, {\"lookup\": \"origin\", \"from\": {\"data\": {\"url\": \"https://cdn.jsdelivr.net/npm/vega-datasets@v1.29.0/data/airports.csv\"}, \"key\": \"iata\", \"fields\": [\"state\", \"latitude\", \"longitude\"]}}, {\"filter\": \"((datum.state !== 'PR') && (datum.state !== 'VI'))\"}]}], \"height\": 500, \"params\": [{\"name\": \"param_1\", \"select\": {\"type\": \"point\", \"fields\": [\"origin\"], \"nearest\": true, \"on\": \"pointerover\"}, \"views\": [\"view_1\"]}], \"width\": 750, \"$schema\": \"https://vega.github.io/schema/vega-lite/v5.17.0.json\"}, {\"mode\": \"vega-lite\"});\n",
       "</script>"
      ],
      "text/plain": [
       "alt.LayerChart(...)"
      ]
     },
     "execution_count": 1,
     "metadata": {},
     "output_type": "execute_result"
    }
   ],
   "source": [
    "import altair as alt\n",
    "from vega_datasets import data\n",
    "\n",
    "# Since these data are each more than 5,000 rows we'll import from the URLs\n",
    "airports = data.airports.url\n",
    "flights_airport = data.flights_airport.url\n",
    "\n",
    "states = alt.topo_feature(data.us_10m.url, feature=\"states\")\n",
    "\n",
    "# Create pointerover selection\n",
    "select_city = alt.selection_point(\n",
    "    on=\"pointerover\", nearest=True, fields=[\"origin\"], empty=False\n",
    ")\n",
    "\n",
    "# Define which attributes to lookup from airports.csv\n",
    "lookup_data = alt.LookupData(\n",
    "    airports, key=\"iata\", fields=[\"state\", \"latitude\", \"longitude\"]\n",
    ")\n",
    "\n",
    "background = alt.Chart(states).mark_geoshape(\n",
    "    fill=\"lightgray\",\n",
    "    stroke=\"white\"\n",
    ").properties(\n",
    "    width=750,\n",
    "    height=500\n",
    ").project(\"albersUsa\")\n",
    "\n",
    "connections = alt.Chart(flights_airport).mark_rule(opacity=0.35).encode(\n",
    "    latitude=\"latitude:Q\",\n",
    "    longitude=\"longitude:Q\",\n",
    "    latitude2=\"lat2:Q\",\n",
    "    longitude2=\"lon2:Q\"\n",
    ").transform_lookup(\n",
    "    lookup=\"origin\",\n",
    "    from_=lookup_data\n",
    ").transform_lookup(\n",
    "    lookup=\"destination\",\n",
    "    from_=lookup_data,\n",
    "    as_=[\"state\", \"lat2\", \"lon2\"]\n",
    ").transform_filter(\n",
    "    select_city\n",
    ")\n",
    "\n",
    "points = alt.Chart(flights_airport).mark_circle().encode(\n",
    "    latitude=\"latitude:Q\",\n",
    "    longitude=\"longitude:Q\",\n",
    "    size=alt.Size(\"routes:Q\").legend(None).scale(range=[0, 1000]),\n",
    "    order=alt.Order(\"routes:Q\").sort(\"descending\"),\n",
    "    tooltip=[\"origin:N\", \"routes:Q\"]\n",
    ").transform_aggregate(\n",
    "    routes=\"count()\",\n",
    "    groupby=[\"origin\"]\n",
    ").transform_lookup(\n",
    "    lookup=\"origin\",\n",
    "    from_=lookup_data\n",
    ").transform_filter(\n",
    "    (alt.datum.state != \"PR\") & (alt.datum.state != \"VI\")\n",
    ").add_params(\n",
    "    select_city\n",
    ")\n",
    "\n",
    "(background + connections + points).configure_view(stroke=None)\n"
   ]
  },
  {
   "cell_type": "code",
   "execution_count": 6,
   "id": "da31d7c4-4b10-418b-9488-cd96ad0e0ff5",
   "metadata": {},
   "outputs": [
    {
     "ename": "AttributeError",
     "evalue": "module 'vega_datasets.core' has no attribute 'brazil'",
     "output_type": "error",
     "traceback": [
      "\u001b[0;31m---------------------------------------------------------------------------\u001b[0m",
      "\u001b[0;31mAttributeError\u001b[0m                            Traceback (most recent call last)",
      "Cell \u001b[0;32mIn[6], line 5\u001b[0m\n\u001b[1;32m      2\u001b[0m \u001b[38;5;28;01mimport\u001b[39;00m \u001b[38;5;21;01mvega_datasets\u001b[39;00m\n\u001b[1;32m      4\u001b[0m \u001b[38;5;66;03m# Load the Brazil dataset\u001b[39;00m\n\u001b[0;32m----> 5\u001b[0m brazil \u001b[38;5;241m=\u001b[39m \u001b[43mvega_datasets\u001b[49m\u001b[38;5;241;43m.\u001b[39;49m\u001b[43mcore\u001b[49m\u001b[38;5;241;43m.\u001b[39;49m\u001b[43mbrazil\u001b[49m()\n\u001b[1;32m      7\u001b[0m \u001b[38;5;66;03m# Create a choropleth map based on a hypothetical population density attribute\u001b[39;00m\n\u001b[1;32m      8\u001b[0m chart \u001b[38;5;241m=\u001b[39m alt\u001b[38;5;241m.\u001b[39mChart(brazil)\u001b[38;5;241m.\u001b[39mmark_geoshape()\u001b[38;5;241m.\u001b[39mencode(\n\u001b[1;32m      9\u001b[0m     color\u001b[38;5;241m=\u001b[39malt\u001b[38;5;241m.\u001b[39mColor(\u001b[38;5;124m'\u001b[39m\u001b[38;5;124mpopulation_density\u001b[39m\u001b[38;5;124m'\u001b[39m, title\u001b[38;5;241m=\u001b[39m\u001b[38;5;124m'\u001b[39m\u001b[38;5;124mPopulation Density\u001b[39m\u001b[38;5;124m'\u001b[39m, scale\u001b[38;5;241m=\u001b[39malt\u001b[38;5;241m.\u001b[39mScale(\u001b[38;5;28mrange\u001b[39m\u001b[38;5;241m=\u001b[39m\u001b[38;5;124m'\u001b[39m\u001b[38;5;124mheatmap\u001b[39m\u001b[38;5;124m'\u001b[39m))\n\u001b[1;32m     10\u001b[0m )\u001b[38;5;241m.\u001b[39mproperties(\n\u001b[1;32m     11\u001b[0m     title\u001b[38;5;241m=\u001b[39m\u001b[38;5;124m'\u001b[39m\u001b[38;5;124mBrazil Population Density\u001b[39m\u001b[38;5;124m'\u001b[39m\n\u001b[1;32m     12\u001b[0m )\u001b[38;5;241m.\u001b[39minteractive()\n",
      "\u001b[0;31mAttributeError\u001b[0m: module 'vega_datasets.core' has no attribute 'brazil'"
     ]
    }
   ],
   "source": [
    "import altair as alt\n",
    "import vega_datasets\n",
    "\n",
    "# Load the Brazil dataset\n",
    "brazil = vega_datasets.core.brazil()\n",
    "\n",
    "# Create a choropleth map based on a hypothetical population density attribute\n",
    "chart = alt.Chart(brazil).mark_geoshape().encode(\n",
    "    color=alt.Color('population_density', title='Population Density', scale=alt.Scale(range='heatmap'))\n",
    ").properties(\n",
    "    title='Brazil Population Density'\n",
    ").interactive()\n",
    "\n",
    "chart.show()"
   ]
  },
  {
   "cell_type": "code",
   "execution_count": null,
   "id": "c415d5a7-3171-440b-94e8-f9318b49e8f9",
   "metadata": {},
   "outputs": [],
   "source": []
  }
 ],
 "metadata": {
  "kernelspec": {
   "display_name": "Python 3 (ipykernel)",
   "language": "python",
   "name": "python3"
  },
  "language_info": {
   "codemirror_mode": {
    "name": "ipython",
    "version": 3
   },
   "file_extension": ".py",
   "mimetype": "text/x-python",
   "name": "python",
   "nbconvert_exporter": "python",
   "pygments_lexer": "ipython3",
   "version": "3.10.12"
  }
 },
 "nbformat": 4,
 "nbformat_minor": 5
}
